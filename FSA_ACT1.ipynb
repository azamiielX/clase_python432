{
  "nbformat": 4,
  "nbformat_minor": 0,
  "metadata": {
    "colab": {
      "provenance": [],
      "authorship_tag": "ABX9TyOh4kmDAUewDyR1+ujFFSp1",
      "include_colab_link": true
    },
    "kernelspec": {
      "name": "python3",
      "display_name": "Python 3"
    },
    "language_info": {
      "name": "python"
    }
  },
  "cells": [
    {
      "cell_type": "markdown",
      "metadata": {
        "id": "view-in-github",
        "colab_type": "text"
      },
      "source": [
        "<a href=\"https://colab.research.google.com/github/azamiielX/clase_python432/blob/main/FSA_ACT1.ipynb\" target=\"_parent\"><img src=\"https://colab.research.google.com/assets/colab-badge.svg\" alt=\"Open In Colab\"/></a>"
      ]
    },
    {
      "cell_type": "markdown",
      "source": [
        "# **Actividad 1**\n",
        "*Fecha: 15 de agosto del 2023*\n",
        "## Francisco Solorza Aguirre"
      ],
      "metadata": {
        "id": "rR68t9rdFsxM"
      }
    },
    {
      "cell_type": "markdown",
      "source": [
        "### 1. Programa en Python que muestre un mensaje que diga \"Hola mundo en un solo renglon utilizando dos prints."
      ],
      "metadata": {
        "id": "KV5svLIt5R0x"
      }
    },
    {
      "cell_type": "code",
      "execution_count": 2,
      "metadata": {
        "colab": {
          "base_uri": "https://localhost:8080/",
          "height": 0
        },
        "id": "r30CzwwN7zat",
        "outputId": "d893be78-34a5-48d0-8960-adb981f82b47"
      },
      "outputs": [
        {
          "output_type": "stream",
          "name": "stdout",
          "text": [
            "¡Hola mundo!\n"
          ]
        }
      ],
      "source": [
        "\"\"\"\n",
        "Utilizamos el end=\" \" en el primer print para especificar que se debe\n",
        "usar un espacio en vez de un salto de línea.\n",
        "\"\"\"\n",
        "\n",
        "print(\"¡Hola\", end=\" \")\n",
        "print(\"mundo!\")"
      ]
    },
    {
      "cell_type": "markdown",
      "source": [
        "### 2. Programa en Python que lea 2 números, realice la suma y despliegue la suma de los ambos números."
      ],
      "metadata": {
        "id": "FBBVmnTF6L6B"
      }
    },
    {
      "cell_type": "code",
      "source": [
        "# Leer los dos números\n",
        "num1 = int(input(\"Ingrese el primer número: \"))\n",
        "num2 = int(input(\"Ingrese el segundo número: \"))\n",
        "\n",
        "# Realizar la suma\n",
        "suma = num1 + num2\n",
        "\n",
        "# Mostrar el resultado\n",
        "print(\"La suma de\", num1, \"y\", num2, \"es:\", suma)"
      ],
      "metadata": {
        "colab": {
          "base_uri": "https://localhost:8080/",
          "height": 0
        },
        "id": "lxC2B3VP6LFZ",
        "outputId": "81994e48-c2d5-470f-d1eb-f81b4bf0c190"
      },
      "execution_count": 5,
      "outputs": [
        {
          "output_type": "stream",
          "name": "stdout",
          "text": [
            "Ingrese el primer número: 10\n",
            "Ingrese el segundo número: 21\n",
            "La suma de 10 y 21 es: 31\n"
          ]
        }
      ]
    },
    {
      "cell_type": "markdown",
      "source": [
        "### 3. Programa en Python que lea 2 números y realice las 4 operaciones básicas."
      ],
      "metadata": {
        "id": "I4sxnApo8AnY"
      }
    },
    {
      "cell_type": "code",
      "source": [
        "# Leer los dos números\n",
        "num1 = int(input(\"Ingrese el primer número: \"))\n",
        "num2 = int(input(\"Ingrese el segundo número: \"))\n",
        "\n",
        "# Realizar las operaciones\n",
        "suma = num1 + num2\n",
        "resta = num1 - num2\n",
        "multiplicacion = num1 * num2\n",
        "division = num1 / num2\n",
        "\n",
        "# Mostrar los resultados\n",
        "print(\"Suma:\", suma)\n",
        "print(\"Resta:\", resta)\n",
        "print(\"Multiplicación:\", multiplicacion)\n",
        "print(\"División:\", division)"
      ],
      "metadata": {
        "colab": {
          "base_uri": "https://localhost:8080/",
          "height": 0
        },
        "id": "1-qTexqP8A5w",
        "outputId": "fd353588-f55e-4311-fdf3-3f51851b283a"
      },
      "execution_count": 6,
      "outputs": [
        {
          "output_type": "stream",
          "name": "stdout",
          "text": [
            "Ingrese el primer número: 10\n",
            "Ingrese el segundo número: 30\n",
            "Suma: 40\n",
            "Resta: -20\n",
            "Multiplicación: 300\n",
            "División: 0.3333333333333333\n"
          ]
        }
      ]
    },
    {
      "cell_type": "markdown",
      "source": [
        "### 4. Programa en Python Que sirva para calcular el área de un triángulo."
      ],
      "metadata": {
        "id": "YC2J5eyE9zDJ"
      }
    },
    {
      "cell_type": "code",
      "source": [
        "# Leer la base y la altura del triángulo\n",
        "base = int(input(\"Ingrese la base del triángulo: \"))\n",
        "altura = int(input(\"Ingrese la altura del triángulo: \"))\n",
        "\n",
        "# Calcular el área del triángulo\n",
        "area = 0.5 * base * altura\n",
        "\n",
        "# Mostrar el área del triángulo\n",
        "print(\"El área del triángulo es:\", area)"
      ],
      "metadata": {
        "colab": {
          "base_uri": "https://localhost:8080/",
          "height": 0
        },
        "id": "uDRQOR5c9zMQ",
        "outputId": "c970ee23-b213-434a-9428-d795b4e109a7"
      },
      "execution_count": 7,
      "outputs": [
        {
          "output_type": "stream",
          "name": "stdout",
          "text": [
            "Ingrese la base del triángulo: 5\n",
            "Ingrese la altura del triángulo: 10\n",
            "El área del triángulo es: 25.0\n"
          ]
        }
      ]
    },
    {
      "cell_type": "markdown",
      "source": [
        "### 5. Programa en Python que lea una medida en centímetros y desplegar la misma medida pero convertida en pies y pulgadas"
      ],
      "metadata": {
        "id": "JaDSh59M-NbY"
      }
    },
    {
      "cell_type": "code",
      "source": [
        "# Leer la medida en cm\n",
        "cm = float(input(\"Ingrese la medida en centímetros: \"))\n",
        "\n",
        "# Convertir centímetros a pies y pulgadas\n",
        "in_totales = cm / 2.54\n",
        "ft = int(in_totales // 12)\n",
        "in_restantes = in_totales % 12\n",
        "\n",
        "# Mostrar la medida en pies y pulgadas\n",
        "print(\"La medida es:\", ft, \"pies y\", in_restantes, \"pulgadas\")"
      ],
      "metadata": {
        "colab": {
          "base_uri": "https://localhost:8080/",
          "height": 0
        },
        "id": "lVi4QwPP-NqH",
        "outputId": "0d6d69d1-3459-4a6b-c80e-6f48b6f1427c"
      },
      "execution_count": 10,
      "outputs": [
        {
          "output_type": "stream",
          "name": "stdout",
          "text": [
            "Ingrese la medida en centímetros: 171\n",
            "La medida es: 5 pies y 7.322834645669289 pulgadas\n"
          ]
        }
      ]
    },
    {
      "cell_type": "markdown",
      "source": [
        "### 6. Programa en Python que lea una temperatura en grados Centígrados y desplegarla en grados Fahrenheit y grados Kelvin"
      ],
      "metadata": {
        "id": "le18MzJ5--lP"
      }
    },
    {
      "cell_type": "code",
      "source": [
        "# Leer la temperatura en grados Celsius\n",
        "celsius = float(input(\"Ingrese la temperatura en grados Celsius: \"))\n",
        "\n",
        "# Convertir Celsius a Fahrenheit y Kelvin\n",
        "fahrenheit = (celsius * 9/5) + 32\n",
        "kelvin = celsius + 273.15\n",
        "\n",
        "# Mostrar las temperaturas convertidas\n",
        "print(\"Temperatura en grados Fahrenheit:\", fahrenheit, \"°F\")\n",
        "print(\"Temperatura en grados Kelvin:\", kelvin, \"K\")"
      ],
      "metadata": {
        "colab": {
          "base_uri": "https://localhost:8080/",
          "height": 0
        },
        "id": "Al3gb7R6-_hX",
        "outputId": "582cb618-9e09-4622-ac30-9e4a8d54ecc3"
      },
      "execution_count": 11,
      "outputs": [
        {
          "output_type": "stream",
          "name": "stdout",
          "text": [
            "Ingrese la temperatura en grados Celsius: 24\n",
            "Temperatura en grados Fahrenheit: 75.2 °F\n",
            "Temperatura en grados Kelvin: 297.15 K\n"
          ]
        }
      ]
    },
    {
      "cell_type": "markdown",
      "source": [
        "### 7. Programa en Python que lea 4 calificaciones de un alumno y despliegue el promedio del alumno."
      ],
      "metadata": {
        "id": "VZo1ATFa_KfQ"
      }
    },
    {
      "cell_type": "code",
      "source": [
        "# Leer las 4 calificaciones del alumno\n",
        "calificacion1 = int(input(\"Ingrese la calificación 1: \"))\n",
        "calificacion2 = int(input(\"Ingrese la calificación 2: \"))\n",
        "calificacion3 = int(input(\"Ingrese la calificación 3: \"))\n",
        "calificacion4 = int(input(\"Ingre9se la calificación 4: \"))\n",
        "\n",
        "# Calcular el promedio\n",
        "promedio = (calificacion1 + calificacion2 + calificacion3 + calificacion4) / 4\n",
        "\n",
        "# Mostrar el promedio\n",
        "print(\"El promedio del alumno es:\", promedio)"
      ],
      "metadata": {
        "colab": {
          "base_uri": "https://localhost:8080/",
          "height": 0
        },
        "id": "RCJ_w4Rl_nIP",
        "outputId": "892a0db2-8e95-4db6-87dc-307bacf91f47"
      },
      "execution_count": 12,
      "outputs": [
        {
          "output_type": "stream",
          "name": "stdout",
          "text": [
            "Ingrese la calificación 1: 80\n",
            "Ingrese la calificación 2: 95\n",
            "Ingrese la calificación 3: 90\n",
            "Ingrese la calificación 4: 0\n",
            "El promedio del alumno es: 66.25\n"
          ]
        }
      ]
    }
  ]
}