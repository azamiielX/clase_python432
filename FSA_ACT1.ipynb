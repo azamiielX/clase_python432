{
  "nbformat": 4,
  "nbformat_minor": 0,
  "metadata": {
    "colab": {
      "provenance": [],
      "authorship_tag": "ABX9TyOB6TnC7qT7nOpYd3CxOcHL",
      "include_colab_link": true
    },
    "kernelspec": {
      "name": "python3",
      "display_name": "Python 3"
    },
    "language_info": {
      "name": "python"
    }
  },
  "cells": [
    {
      "cell_type": "markdown",
      "metadata": {
        "id": "view-in-github",
        "colab_type": "text"
      },
      "source": [
        "<a href=\"https://colab.research.google.com/github/azamiielX/clase_python432/blob/main/FSA_ACT1.ipynb\" target=\"_parent\"><img src=\"https://colab.research.google.com/assets/colab-badge.svg\" alt=\"Open In Colab\"/></a>"
      ]
    },
    {
      "cell_type": "markdown",
      "source": [
        "# **Actividad 1**\n",
        "*Fecha: 15 de agosto del 2023*\n",
        "## Francisco Solorza Aguirre"
      ],
      "metadata": {
        "id": "rR68t9rdFsxM"
      }
    },
    {
      "cell_type": "code",
      "execution_count": 5,
      "metadata": {
        "colab": {
          "base_uri": "https://localhost:8080/",
          "height": 0
        },
        "id": "r30CzwwN7zat",
        "outputId": "cf1f08dc-2881-485c-9653-2e622a02ae6a"
      },
      "outputs": [
        {
          "output_type": "stream",
          "name": "stdout",
          "text": [
            "Me llamo, Enrique Pasos Haro y tengo 21 años.\n"
          ]
        }
      ],
      "source": [
        "nombre = \"Enrique Pasos Haro\"\n",
        "edad = 21\n",
        "print(f\"Me llamo, {nombre} y tengo {edad} años.\")"
      ]
    }
  ]
}