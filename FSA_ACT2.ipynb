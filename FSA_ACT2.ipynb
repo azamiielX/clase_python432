{
  "nbformat": 4,
  "nbformat_minor": 0,
  "metadata": {
    "colab": {
      "provenance": [],
      "authorship_tag": "ABX9TyPoyjdGOkHOeh1U1UA/fvXu",
      "include_colab_link": true
    },
    "kernelspec": {
      "name": "python3",
      "display_name": "Python 3"
    },
    "language_info": {
      "name": "python"
    }
  },
  "cells": [
    {
      "cell_type": "markdown",
      "metadata": {
        "id": "view-in-github",
        "colab_type": "text"
      },
      "source": [
        "<a href=\"https://colab.research.google.com/github/azamiielX/clase_python432/blob/main/FSA_ACT2.ipynb\" target=\"_parent\"><img src=\"https://colab.research.google.com/assets/colab-badge.svg\" alt=\"Open In Colab\"/></a>"
      ]
    },
    {
      "cell_type": "markdown",
      "source": [
        "# **Actividad 2**\n",
        "*Fecha: 22 de agosto del 2023*\n",
        "## Francisco Solorza Aguirre"
      ],
      "metadata": {
        "id": "IeENAATZKowX"
      }
    },
    {
      "cell_type": "markdown",
      "source": [
        "## **Ejercicios 1, 2, 3 y 4 resolver utilizando solo condiciones simples**."
      ],
      "metadata": {
        "id": "_zT7KDl2IvGX"
      }
    },
    {
      "cell_type": "markdown",
      "source": [
        "### 1. Programa en Python que lea 2 números enteros, usar una condición y analizar los dos números y desplegar cual de los números es el mayor."
      ],
      "metadata": {
        "id": "Py5Mw2cWG_WX"
      }
    },
    {
      "cell_type": "code",
      "source": [
        "# Leer los dos números enteros\n",
        "num1 = int(input(\"Ingrese el primer número entero: \"))\n",
        "num2 = int(input(\"Ingrese el segundo número entero: \"))\n",
        "\n",
        "# Analizar y mostrar cuál es el mayor número\n",
        "if num1 > num2:\n",
        "    print(\"El primer número es el mayor:\", num1)\n",
        "elif num2 > num1:\n",
        "    print(\"El segundo número es el mayor:\", num2)\n",
        "else:\n",
        "    print(\"Los dos números son iguales.\")"
      ],
      "metadata": {
        "colab": {
          "base_uri": "https://localhost:8080/",
          "height": 0
        },
        "id": "PQQpcL1mHBCP",
        "outputId": "cc5fca47-ae5c-46f4-fe5b-38be5ed354e2"
      },
      "execution_count": 1,
      "outputs": [
        {
          "output_type": "stream",
          "name": "stdout",
          "text": [
            "Ingrese el primer número entero: 20\n",
            "Ingrese el segundo número entero: 10\n",
            "El primer número es el mayor: 20\n"
          ]
        }
      ]
    },
    {
      "cell_type": "markdown",
      "source": [
        "### 2. Programa en Python que lea 4 calificaciones de un alumno, calcular y desplegar el promedio acompañado de la leyenda \"APROBADO\" o \"REPROBADO\""
      ],
      "metadata": {
        "id": "h6J3B7qPHVM-"
      }
    },
    {
      "cell_type": "code",
      "source": [
        "# Leer las 4 calificaciones del alumno\n",
        "calificacion1 = int(input(\"Ingrese la calificación 1: \"))\n",
        "calificacion2 = int(input(\"Ingrese la calificación 2: \"))\n",
        "calificacion3 = int(input(\"Ingrese la calificación 3: \"))\n",
        "calificacion4 = int(input(\"Ingrese la calificación 4: \"))\n",
        "\n",
        "# Calcular el promedio\n",
        "promedio = (calificacion1 + calificacion2 + calificacion3 + calificacion4) / 4\n",
        "\n",
        "# Determinar si está aprobado o reprobado\n",
        "if promedio >= 6.0:\n",
        "    resultado = \"APROBADO\"\n",
        "else:\n",
        "    resultado = \"REPROBADO\"\n",
        "\n",
        "# Mostrar el promedio y el resultado\n",
        "print(\"El promedio del alumno es:\", promedio)\n",
        "print(\"El alumno está:\", resultado)"
      ],
      "metadata": {
        "colab": {
          "base_uri": "https://localhost:8080/",
          "height": 0
        },
        "id": "gzMAlexaHU-f",
        "outputId": "60e604d0-2b8d-462e-a59d-3ecc78e66583"
      },
      "execution_count": 3,
      "outputs": [
        {
          "output_type": "stream",
          "name": "stdout",
          "text": [
            "Ingrese la calificación 1: 100\n",
            "Ingrese la calificación 2: 98\n",
            "Ingrese la calificación 3: 95\n",
            "Ingrese la calificación 4: 80\n",
            "El promedio del alumno es: 93.25\n",
            "El alumno está: APROBADO\n"
          ]
        }
      ]
    },
    {
      "cell_type": "markdown",
      "source": [
        "### 3. Programa en Python que a través de opciones (1.- mHOMBRE 2.- MUJER) preguntar al usuario cual es su sexo y desplegar la leyenda “HOMBRE”, “MUJER”.\n",
        "\n"
      ],
      "metadata": {
        "id": "rCekz4kaHy-X"
      }
    },
    {
      "cell_type": "code",
      "source": [
        "# Mostrar opciones\n",
        "print(\"Seleccione su sexo:\")\n",
        "print(\"1.- HOMBRE\")\n",
        "print(\"2.- MUJER\")\n",
        "\n",
        "# Leer la elección del usuario\n",
        "eleccion = int(input(\"Ingrese el número de la opción: \"))\n",
        "\n",
        "# Mostrar el resultado basado en la elección\n",
        "if eleccion == 1:\n",
        "    print(\"Usted es HOMBRE.\")\n",
        "elif eleccion == 2:\n",
        "    print(\"Usted es MUJER.\")\n",
        "else:\n",
        "    print(\"Opción no válida.\")"
      ],
      "metadata": {
        "colab": {
          "base_uri": "https://localhost:8080/",
          "height": 0
        },
        "id": "ZjFwlTIZHzNX",
        "outputId": "42935903-5fea-4335-98f0-f7a429c178ce"
      },
      "execution_count": 4,
      "outputs": [
        {
          "output_type": "stream",
          "name": "stdout",
          "text": [
            "Seleccione su sexo:\n",
            "1.- HOMBRE\n",
            "2.- MUJER\n",
            "Ingrese el número de la opción: 1\n",
            "Usted es HOMBRE.\n"
          ]
        }
      ]
    },
    {
      "cell_type": "markdown",
      "source": [
        "### 4. Programa en Python que lea un número entero, y desplegar si el número es “PAR” o “IMPAR”"
      ],
      "metadata": {
        "id": "Q9upNIt1IFA-"
      }
    },
    {
      "cell_type": "code",
      "source": [
        "# Leer un número entero\n",
        "num = int(input(\"Ingrese un número entero: \"))\n",
        "\n",
        "# Determinar si el número es par o impar\n",
        "if num % 2 == 0:\n",
        "    resultado = \"PAR\"\n",
        "else:\n",
        "    resultado = \"IMPAR\"\n",
        "\n",
        "# Mostrar el resultado\n",
        "print(\"El número ingresado es:\", resultado)"
      ],
      "metadata": {
        "colab": {
          "base_uri": "https://localhost:8080/",
          "height": 0
        },
        "id": "XWu1U1YgIE42",
        "outputId": "0060e06a-7ef0-465c-984c-a04cb4e65fdb"
      },
      "execution_count": 5,
      "outputs": [
        {
          "output_type": "stream",
          "name": "stdout",
          "text": [
            "Ingrese un número entero: 20\n",
            "El número ingresado es: PAR\n"
          ]
        }
      ]
    },
    {
      "cell_type": "markdown",
      "source": [
        "## **Ejercicios 5, 6, 7 y 8 resolver utilizando condiciones compuestas.**"
      ],
      "metadata": {
        "id": "NrzwkyQtI74G"
      }
    },
    {
      "cell_type": "markdown",
      "source": [
        "### 5. Programa en Python que lea 2 números enteros, usar una condición y analizar los dos números y desplegar cual de los números es el mayor."
      ],
      "metadata": {
        "id": "odhxH4haJ5LO"
      }
    },
    {
      "cell_type": "code",
      "source": [
        "# Leer los dos números enteros\n",
        "num1 = int(input(\"Ingrese el primer número entero: \"))\n",
        "num2 = int(input(\"Ingrese el segundo número entero: \"))\n",
        "\n",
        "# Analizar y mostrar cuál es el mayor número\n",
        "if num1 > num2:\n",
        "    print(\"El primer número es el mayor:\", num1)\n",
        "else:\n",
        "    if num2 > num1:\n",
        "        print(\"El segundo número es el mayor:\", num2)\n",
        "    else:\n",
        "        print(\"Los dos números son iguales.\")"
      ],
      "metadata": {
        "colab": {
          "base_uri": "https://localhost:8080/",
          "height": 0
        },
        "id": "p3cEqC-vI8Se",
        "outputId": "6744fc20-7c06-4bdf-bb05-ca23c9c7988d"
      },
      "execution_count": 6,
      "outputs": [
        {
          "output_type": "stream",
          "name": "stdout",
          "text": [
            "Ingrese el primer número entero: 20\n",
            "Ingrese el segundo número entero: 30\n",
            "El segundo número es el mayor: 30\n"
          ]
        }
      ]
    },
    {
      "cell_type": "markdown",
      "source": [
        "## 6. Programa en Python que lea 4 calificaciones de un alumno, calcular y desplegar el promedio acompañado de la leyenda APROBADO o REPROBADO"
      ],
      "metadata": {
        "id": "ZEAvXHq_KvKd"
      }
    },
    {
      "cell_type": "code",
      "source": [
        "# Leer las 4 calificaciones del alumno\n",
        "calificacion1 = float(input(\"Ingrese la calificación 1: \"))\n",
        "calificacion2 = float(input(\"Ingrese la calificación 2: \"))\n",
        "calificacion3 = float(input(\"Ingrese la calificación 3: \"))\n",
        "calificacion4 = float(input(\"Ingrese la calificación 4: \"))\n",
        "\n",
        "# Calcular el promedio\n",
        "promedio = (calificacion1 + calificacion2 + calificacion3 + calificacion4) / 4\n",
        "\n",
        "# Determinar si está aprobado o reprobado y mostrar el promedio\n",
        "if promedio >= 6.0:\n",
        "    resultado = \"APROBADO\"\n",
        "else:\n",
        "    resultado = \"REPROBADO\"\n",
        "\n",
        "print(\"El promedio del alumno es:\", promedio)\n",
        "print(\"El alumno está:\", resultado)"
      ],
      "metadata": {
        "colab": {
          "base_uri": "https://localhost:8080/",
          "height": 0
        },
        "id": "0ZQrh8rEKu-N",
        "outputId": "5b7892f2-8796-471d-c3e2-c97b5038d47b"
      },
      "execution_count": 7,
      "outputs": [
        {
          "output_type": "stream",
          "name": "stdout",
          "text": [
            "Ingrese la calificación 1: 80\n",
            "Ingrese la calificación 2: 75\n",
            "Ingrese la calificación 3: 80\n",
            "Ingrese la calificación 4: 80\n",
            "El promedio del alumno es: 78.75\n",
            "El alumno está: APROBADO\n"
          ]
        }
      ]
    },
    {
      "cell_type": "markdown",
      "source": [
        "## 7. Programa en Python que a través de opciones (1.- HOMBRE 2.- MUJER ) preguntar al usuario cual es su sexo y desplegar la leyenda “HOMBRE ”, “MUJER”"
      ],
      "metadata": {
        "id": "L7qmcSvwK_9e"
      }
    },
    {
      "cell_type": "code",
      "source": [
        "# Mostrar opciones\n",
        "print(\"Seleccione su sexo:\")\n",
        "print(\"1.- HOMBRE\")\n",
        "print(\"2.- MUJER\")\n",
        "\n",
        "# Leer la elección del usuario\n",
        "eleccion = int(input(\"Ingrese el número de la opción: \"))\n",
        "\n",
        "# Mostrar el resultado basado en la elección\n",
        "if eleccion == 1:\n",
        "    print(\"Usted es HOMBRE.\")\n",
        "else:\n",
        "    if eleccion == 2:\n",
        "        print(\"Usted es MUJER.\")\n",
        "    else:\n",
        "        print(\"Opción no válida.\")"
      ],
      "metadata": {
        "colab": {
          "base_uri": "https://localhost:8080/",
          "height": 0
        },
        "id": "kXP0gRwLK_oG",
        "outputId": "18f0f208-5939-46b8-b621-1bbc5f0b7d43"
      },
      "execution_count": 10,
      "outputs": [
        {
          "output_type": "stream",
          "name": "stdout",
          "text": [
            "Seleccione su sexo:\n",
            "1.- HOMBRE\n",
            "2.- MUJER\n",
            "Ingrese el número de la opción: 1\n",
            "Usted es HOMBRE.\n"
          ]
        }
      ]
    },
    {
      "cell_type": "markdown",
      "source": [
        "## 8. Programa en Python que lea un número entero, y desplegar si el número es “PAR” o “IMPAR”"
      ],
      "metadata": {
        "id": "hVwc8-dWLVy2"
      }
    },
    {
      "cell_type": "code",
      "source": [
        "# Leer un número entero\n",
        "num = int(input(\"Ingrese un número entero: \"))\n",
        "\n",
        "# Determinar si el número es par o impar\n",
        "if num % 2 == 0:\n",
        "    print(\"El número es PAR.\")\n",
        "else:\n",
        "    if num % 2 == 1:\n",
        "        print(\"El número es IMPAR.\")\n",
        "    else:\n",
        "        print(\"El número es cero.\")"
      ],
      "metadata": {
        "id": "TexD2fJkLWHW"
      },
      "execution_count": null,
      "outputs": []
    },
    {
      "cell_type": "code",
      "source": [],
      "metadata": {
        "id": "NlkDKaHeL3mv"
      },
      "execution_count": null,
      "outputs": []
    }
  ]
}